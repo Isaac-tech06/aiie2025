{
  "nbformat": 4,
  "nbformat_minor": 0,
  "metadata": {
    "colab": {
      "provenance": [],
      "gpuType": "T4"
    },
    "kernelspec": {
      "name": "python3",
      "display_name": "Python 3"
    },
    "language_info": {
      "name": "python"
    },
    "accelerator": "GPU"
  },
  "cells": [
    {
      "cell_type": "markdown",
      "source": [
        "# Gemini for images\n",
        "\n",
        "References:\n",
        "\n",
        "* https://ai.google.dev/gemini-api/docs/image-generation#before_you_begin\n",
        "* https://ai.google.dev/gemini-api/docs/image-understanding"
      ],
      "metadata": {
        "id": "ZmK0dw8SXe_F"
      }
    },
    {
      "cell_type": "markdown",
      "source": [
        "# Setting up"
      ],
      "metadata": {
        "id": "Z3RGzJ9qXjr1"
      }
    },
    {
      "cell_type": "code",
      "execution_count": 15,
      "metadata": {
        "id": "PFWaLI5jZWcH"
      },
      "outputs": [],
      "source": [
        "from google import genai\n",
        "from google.genai import types\n",
        "from PIL import Image\n",
        "from io import BytesIO\n",
        "import base64"
      ]
    },
    {
      "cell_type": "code",
      "source": [
        "from google.colab import userdata\n",
        "\n",
        "GOOGLE_API_KEY = userdata.get('GOOGLE_API_KEY')"
      ],
      "metadata": {
        "id": "J0tQIlO7Z6bN"
      },
      "execution_count": 16,
      "outputs": []
    },
    {
      "cell_type": "code",
      "source": [
        "client = genai.Client(api_key=GOOGLE_API_KEY)"
      ],
      "metadata": {
        "id": "YAvFApHuaO12"
      },
      "execution_count": 17,
      "outputs": []
    },
    {
      "cell_type": "code",
      "source": [
        "#for model_info in client.models.list():\n",
        "#   print(model_info.name)"
      ],
      "metadata": {
        "id": "Skz7cgsNMcpJ"
      },
      "execution_count": 5,
      "outputs": []
    },
    {
      "cell_type": "markdown",
      "source": [
        "# Generate an image"
      ],
      "metadata": {
        "id": "ONdTWTQcXxxZ"
      }
    },
    {
      "cell_type": "code",
      "source": [
        "# Prompt\n",
        "contents = ('Hi, can you create a 3d rendered image of a cat '\n",
        "            'with long ears on top of an airplane '\n",
        "            'realistic and bright')"
      ],
      "metadata": {
        "id": "aC8eU-QcZ775"
      },
      "execution_count": 18,
      "outputs": []
    },
    {
      "cell_type": "code",
      "source": [
        "response = client.models.generate_content(\n",
        "    model=\"gemini-2.0-flash-exp-image-generation\",\n",
        "    contents=contents,\n",
        "    config=types.GenerateContentConfig(\n",
        "      response_modalities=['TEXT', 'IMAGE']\n",
        "    )\n",
        ")"
      ],
      "metadata": {
        "id": "FkqOsEA8aExR"
      },
      "execution_count": 19,
      "outputs": []
    },
    {
      "cell_type": "code",
      "source": [
        "for part in response.candidates[0].content.parts:\n",
        "  if part.text is not None:\n",
        "    print(part.text)\n",
        "  elif part.inline_data is not None:\n",
        "    image = Image.open(BytesIO((part.inline_data.data)))\n",
        "    image.save('gemini-native-image2.png') #file name\n",
        "    image.show()"
      ],
      "metadata": {
        "id": "8QnMLLjAaHzu",
        "colab": {
          "base_uri": "https://localhost:8080/"
        },
        "outputId": "b06bd5f7-04f7-4df2-f34d-f03e8ad7fd1f"
      },
      "execution_count": 20,
      "outputs": [
        {
          "output_type": "stream",
          "name": "stdout",
          "text": [
            "I will generate a 3D rendering of a realistic, brightly lit scene featuring a cat with unusually long ears perched on the wing of an airplane.\n",
            "\n",
            "\n"
          ]
        }
      ]
    },
    {
      "cell_type": "markdown",
      "source": [
        "# Describe a local image"
      ],
      "metadata": {
        "id": "pSqS-GzSY1RE"
      }
    },
    {
      "cell_type": "code",
      "source": [
        "my_file = client.files.upload(file=\"/content/horse.jpg\")\n",
        "\n",
        "response = client.models.generate_content(\n",
        "    model=\"gemini-2.0-flash\",\n",
        "    contents=[my_file, \"Caption this image in less than 5 words.\"],\n",
        ")\n",
        "\n",
        "print(response.text)"
      ],
      "metadata": {
        "colab": {
          "base_uri": "https://localhost:8080/"
        },
        "id": "e1qW7vFTX3wx",
        "outputId": "62c87556-c831-4ba0-8489-564f2b299187"
      },
      "execution_count": 29,
      "outputs": [
        {
          "output_type": "stream",
          "name": "stdout",
          "text": [
            "Two majestic blue roan horses.\n"
          ]
        }
      ]
    },
    {
      "cell_type": "code",
      "source": [
        "my_file = client.files.upload(file=\"/content/gemini-native-image2.png\")\n",
        "\n",
        "response = client.models.generate_content(\n",
        "    model=\"gemini-2.0-flash\",\n",
        "    contents=[my_file, \"Caption this image.\"],\n",
        ")\n",
        "\n",
        "print(response.text)"
      ],
      "metadata": {
        "colab": {
          "base_uri": "https://localhost:8080/"
        },
        "id": "fVW9sV0yyamp",
        "outputId": "fcea246b-49f3-4608-f3f5-f6a4a289225f"
      },
      "execution_count": 21,
      "outputs": [
        {
          "output_type": "stream",
          "name": "stdout",
          "text": [
            "Here are some captions for the image of the cat on the plane wing:\n",
            "\n",
            "**Funny:**\n",
            "\n",
            "* \"I always take the window seat, but this is ridiculous.\"\n",
            "* \"Just testing out my new wingwalker career.\"\n",
            "* \"I told the pilot to take the scenic route.\"\n",
            "* \"When you book a flight and forget to mention your emotional support animal.\"\n",
            "\n",
            "**Simple:**\n",
            "\n",
            "* \"Cat on a plane... wing!\"\n",
            "* \"Wing Walker Cat\"\n",
            "* \"Up in the air!\"\n",
            "\n",
            "**Slightly More Descriptive:**\n",
            "\n",
            "* \"A tabby cat takes a stroll on the wing of an airplane in flight.\"\n",
            "* \"This adventurous feline is enjoying the ultimate view!\"\n",
            "\n",
            "I think the funny options will probably resonate with most people!\n",
            "\n"
          ]
        }
      ]
    },
    {
      "cell_type": "markdown",
      "source": [
        "## Describe an image from a URL"
      ],
      "metadata": {
        "id": "whqrA_yDY3kK"
      }
    },
    {
      "cell_type": "code",
      "source": [
        "import requests\n",
        "\n",
        "image_path = \"https://goo.gle/instrument-img\"\n",
        "image_bytes = requests.get(image_path).content\n",
        "image = types.Part.from_bytes(\n",
        "  data=image_bytes, mime_type=\"image/jpeg\"\n",
        ")\n",
        "\n",
        "response = client.models.generate_content(\n",
        "    model=\"gemini-2.0-flash-exp\",\n",
        "    contents=[\"What is this image?\", image],\n",
        ")\n",
        "\n",
        "print(response.text)"
      ],
      "metadata": {
        "colab": {
          "base_uri": "https://localhost:8080/"
        },
        "id": "63PZsf-BY9FX",
        "outputId": "ce0611ea-64c6-40a5-9ab4-440b3d15cee3"
      },
      "execution_count": 24,
      "outputs": [
        {
          "output_type": "stream",
          "name": "stdout",
          "text": [
            "The image shows the console of a pipe organ. It has multiple keyboards (manuals), foot pedals, stop knobs/tabs, and other controls for playing the instrument.\n"
          ]
        }
      ]
    },
    {
      "cell_type": "markdown",
      "source": [
        "# Edit an image"
      ],
      "metadata": {
        "id": "cSyEJfyZ5_Yi"
      }
    },
    {
      "cell_type": "code",
      "source": [
        "image = Image.open('/content/gemini-native-image2.png') #path to file\n",
        "\n",
        "text_input = ('Hi, This is a picture of a cat on an airplane.' #edit prompts\n",
        "            'Can you add a llama next to it?',)\n",
        "\n",
        "response = client.models.generate_content(\n",
        "    model=\"gemini-2.0-flash-preview-image-generation\",\n",
        "    contents=[text_input, image],\n",
        "    config=types.GenerateContentConfig(\n",
        "      response_modalities=['TEXT', 'IMAGE']\n",
        "    )\n",
        ")\n",
        "\n",
        "for part in response.candidates[0].content.parts:\n",
        "  if part.text is not None:\n",
        "    print(part.text)\n",
        "  elif part.inline_data is not None:\n",
        "    image = Image.open(BytesIO(part.inline_data.data))\n",
        "    image.show()\n",
        "    image.save('gemini-edited-image.png') #new file name"
      ],
      "metadata": {
        "colab": {
          "base_uri": "https://localhost:8080/"
        },
        "id": "cWM5coDR59gB",
        "outputId": "d0056a23-8fa7-44bc-b2c9-a593c1264d5d"
      },
      "execution_count": 25,
      "outputs": [
        {
          "output_type": "stream",
          "name": "stdout",
          "text": [
            "A fluffy white llama with long eyelashes will be standing calmly next to the tabby cat on the airplane wing, both looking out over the clouds under a clear blue sky.\n",
            "\n"
          ]
        }
      ]
    },
    {
      "cell_type": "markdown",
      "source": [
        "# Differences between images"
      ],
      "metadata": {
        "id": "QRfaDDZ4Zd3t"
      }
    },
    {
      "cell_type": "code",
      "source": [
        "# Upload the first image\n",
        "image1_path = \"/content/horse.jpg\"\n",
        "uploaded_file = client.files.upload(file=image1_path)\n",
        "\n",
        "# Prepare the second image as inline data\n",
        "image2_path = \"/content/gemini-native-image2.png\"\n",
        "with open(image2_path, 'rb') as f:\n",
        "    img2_bytes = f.read()\n",
        "\n",
        "# Create the prompt with text and multiple images\n",
        "response = client.models.generate_content(\n",
        "    model=\"gemini-2.0-flash\",\n",
        "    contents=[\n",
        "        \"What is different between these two images?\",\n",
        "        uploaded_file,  # Use the uploaded file reference\n",
        "        types.Part.from_bytes(\n",
        "            data=img2_bytes,\n",
        "            mime_type='image/png'\n",
        "        )\n",
        "    ]\n",
        ")\n",
        "\n",
        "print(response.text)"
      ],
      "metadata": {
        "id": "59RHQBXOeZfI",
        "colab": {
          "base_uri": "https://localhost:8080/"
        },
        "outputId": "ae30b8ec-21cf-4a3d-f74a-f5bfe76854b5"
      },
      "execution_count": 30,
      "outputs": [
        {
          "output_type": "stream",
          "name": "stdout",
          "text": [
            "Here's a breakdown of the differences between the two images:\n",
            "\n",
            "*   **Content:** The first image contains a scene with two horses in a field. The second image depicts a cat standing on the wing of an airplane.\n",
            "*   **Subject Matter:** The first image features animals in a natural environment, while the second has a domestic animal in an unnatural situation.\n"
          ]
        }
      ]
    }
  ]
}
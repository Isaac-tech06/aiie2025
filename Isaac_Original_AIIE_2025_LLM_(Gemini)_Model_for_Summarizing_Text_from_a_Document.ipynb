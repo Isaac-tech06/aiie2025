{
  "nbformat": 4,
  "nbformat_minor": 0,
  "metadata": {
    "colab": {
      "provenance": []
    },
    "kernelspec": {
      "name": "python3",
      "display_name": "Python 3"
    },
    "language_info": {
      "name": "python"
    }
  },
  "cells": [
    {
      "cell_type": "code",
      "source": [
        "!pip install PyPDF2 python-docx google-generativeai # PyPDF2 for PDFs, python-docx for .docx"
      ],
      "metadata": {
        "colab": {
          "base_uri": "https://localhost:8080/"
        },
        "id": "cBoLeGEJ7qZF",
        "outputId": "655bac01-156a-48d9-97e0-38cee10b9312"
      },
      "execution_count": 1,
      "outputs": [
        {
          "output_type": "stream",
          "name": "stdout",
          "text": [
            "Collecting PyPDF2\n",
            "  Downloading pypdf2-3.0.1-py3-none-any.whl.metadata (6.8 kB)\n",
            "Collecting python-docx\n",
            "  Downloading python_docx-1.1.2-py3-none-any.whl.metadata (2.0 kB)\n",
            "Requirement already satisfied: google-generativeai in /usr/local/lib/python3.11/dist-packages (0.8.4)\n",
            "Requirement already satisfied: lxml>=3.1.0 in /usr/local/lib/python3.11/dist-packages (from python-docx) (5.3.1)\n",
            "Requirement already satisfied: typing-extensions>=4.9.0 in /usr/local/lib/python3.11/dist-packages (from python-docx) (4.12.2)\n",
            "Requirement already satisfied: google-ai-generativelanguage==0.6.15 in /usr/local/lib/python3.11/dist-packages (from google-generativeai) (0.6.15)\n",
            "Requirement already satisfied: google-api-core in /usr/local/lib/python3.11/dist-packages (from google-generativeai) (2.24.1)\n",
            "Requirement already satisfied: google-api-python-client in /usr/local/lib/python3.11/dist-packages (from google-generativeai) (2.160.0)\n",
            "Requirement already satisfied: google-auth>=2.15.0 in /usr/local/lib/python3.11/dist-packages (from google-generativeai) (2.38.0)\n",
            "Requirement already satisfied: protobuf in /usr/local/lib/python3.11/dist-packages (from google-generativeai) (4.25.6)\n",
            "Requirement already satisfied: pydantic in /usr/local/lib/python3.11/dist-packages (from google-generativeai) (2.10.6)\n",
            "Requirement already satisfied: tqdm in /usr/local/lib/python3.11/dist-packages (from google-generativeai) (4.67.1)\n",
            "Requirement already satisfied: proto-plus<2.0.0dev,>=1.22.3 in /usr/local/lib/python3.11/dist-packages (from google-ai-generativelanguage==0.6.15->google-generativeai) (1.26.0)\n",
            "Requirement already satisfied: googleapis-common-protos<2.0.dev0,>=1.56.2 in /usr/local/lib/python3.11/dist-packages (from google-api-core->google-generativeai) (1.69.0)\n",
            "Requirement already satisfied: requests<3.0.0.dev0,>=2.18.0 in /usr/local/lib/python3.11/dist-packages (from google-api-core->google-generativeai) (2.32.3)\n",
            "Requirement already satisfied: cachetools<6.0,>=2.0.0 in /usr/local/lib/python3.11/dist-packages (from google-auth>=2.15.0->google-generativeai) (5.5.2)\n",
            "Requirement already satisfied: pyasn1-modules>=0.2.1 in /usr/local/lib/python3.11/dist-packages (from google-auth>=2.15.0->google-generativeai) (0.4.1)\n",
            "Requirement already satisfied: rsa<5,>=3.1.4 in /usr/local/lib/python3.11/dist-packages (from google-auth>=2.15.0->google-generativeai) (4.9)\n",
            "Requirement already satisfied: httplib2<1.dev0,>=0.19.0 in /usr/local/lib/python3.11/dist-packages (from google-api-python-client->google-generativeai) (0.22.0)\n",
            "Requirement already satisfied: google-auth-httplib2<1.0.0,>=0.2.0 in /usr/local/lib/python3.11/dist-packages (from google-api-python-client->google-generativeai) (0.2.0)\n",
            "Requirement already satisfied: uritemplate<5,>=3.0.1 in /usr/local/lib/python3.11/dist-packages (from google-api-python-client->google-generativeai) (4.1.1)\n",
            "Requirement already satisfied: annotated-types>=0.6.0 in /usr/local/lib/python3.11/dist-packages (from pydantic->google-generativeai) (0.7.0)\n",
            "Requirement already satisfied: pydantic-core==2.27.2 in /usr/local/lib/python3.11/dist-packages (from pydantic->google-generativeai) (2.27.2)\n",
            "Requirement already satisfied: grpcio<2.0dev,>=1.33.2 in /usr/local/lib/python3.11/dist-packages (from google-api-core[grpc]!=2.0.*,!=2.1.*,!=2.10.*,!=2.2.*,!=2.3.*,!=2.4.*,!=2.5.*,!=2.6.*,!=2.7.*,!=2.8.*,!=2.9.*,<3.0.0dev,>=1.34.1->google-ai-generativelanguage==0.6.15->google-generativeai) (1.70.0)\n",
            "Requirement already satisfied: grpcio-status<2.0.dev0,>=1.33.2 in /usr/local/lib/python3.11/dist-packages (from google-api-core[grpc]!=2.0.*,!=2.1.*,!=2.10.*,!=2.2.*,!=2.3.*,!=2.4.*,!=2.5.*,!=2.6.*,!=2.7.*,!=2.8.*,!=2.9.*,<3.0.0dev,>=1.34.1->google-ai-generativelanguage==0.6.15->google-generativeai) (1.62.3)\n",
            "Requirement already satisfied: pyparsing!=3.0.0,!=3.0.1,!=3.0.2,!=3.0.3,<4,>=2.4.2 in /usr/local/lib/python3.11/dist-packages (from httplib2<1.dev0,>=0.19.0->google-api-python-client->google-generativeai) (3.2.1)\n",
            "Requirement already satisfied: pyasn1<0.7.0,>=0.4.6 in /usr/local/lib/python3.11/dist-packages (from pyasn1-modules>=0.2.1->google-auth>=2.15.0->google-generativeai) (0.6.1)\n",
            "Requirement already satisfied: charset-normalizer<4,>=2 in /usr/local/lib/python3.11/dist-packages (from requests<3.0.0.dev0,>=2.18.0->google-api-core->google-generativeai) (3.4.1)\n",
            "Requirement already satisfied: idna<4,>=2.5 in /usr/local/lib/python3.11/dist-packages (from requests<3.0.0.dev0,>=2.18.0->google-api-core->google-generativeai) (3.10)\n",
            "Requirement already satisfied: urllib3<3,>=1.21.1 in /usr/local/lib/python3.11/dist-packages (from requests<3.0.0.dev0,>=2.18.0->google-api-core->google-generativeai) (2.3.0)\n",
            "Requirement already satisfied: certifi>=2017.4.17 in /usr/local/lib/python3.11/dist-packages (from requests<3.0.0.dev0,>=2.18.0->google-api-core->google-generativeai) (2025.1.31)\n",
            "Downloading pypdf2-3.0.1-py3-none-any.whl (232 kB)\n",
            "\u001b[2K   \u001b[90m━━━━━━━━━━━━━━━━━━━━━━━━━━━━━━━━━━━━━━━━\u001b[0m \u001b[32m232.6/232.6 kB\u001b[0m \u001b[31m2.7 MB/s\u001b[0m eta \u001b[36m0:00:00\u001b[0m\n",
            "\u001b[?25hDownloading python_docx-1.1.2-py3-none-any.whl (244 kB)\n",
            "\u001b[2K   \u001b[90m━━━━━━━━━━━━━━━━━━━━━━━━━━━━━━━━━━━━━━━━\u001b[0m \u001b[32m244.3/244.3 kB\u001b[0m \u001b[31m9.7 MB/s\u001b[0m eta \u001b[36m0:00:00\u001b[0m\n",
            "\u001b[?25hInstalling collected packages: python-docx, PyPDF2\n",
            "Successfully installed PyPDF2-3.0.1 python-docx-1.1.2\n"
          ]
        }
      ]
    },
    {
      "cell_type": "code",
      "source": [
        "from google import genai\n",
        "from google.genai import types\n",
        "from PIL import Image\n",
        "from io import BytesIO\n",
        "import base64\n",
        "\n",
        "from google.colab import userdata\n",
        "\n",
        "# Libraries for document parsing\n",
        "import PyPDF2 # For PDF files\n",
        "import docx # For .docx Word files\n",
        "import os"
      ],
      "metadata": {
        "id": "w03U53F8xpT3"
      },
      "execution_count": 2,
      "outputs": []
    },
    {
      "cell_type": "code",
      "source": [
        "# It's good practice to get your API key securely, as you're doing with userdata.\n",
        "GOOGLE_API_KEY = userdata.get(\"GOOGLE_API_KEY\")"
      ],
      "metadata": {
        "id": "4kWLb9bPyo07"
      },
      "execution_count": 3,
      "outputs": []
    },
    {
      "cell_type": "code",
      "source": [
        "# Initialize the Gemini client\n",
        "client = genai.Client(api_key=GOOGLE_API_KEY)"
      ],
      "metadata": {
        "id": "vP0xMUwhysIq"
      },
      "execution_count": 4,
      "outputs": []
    },
    {
      "cell_type": "code",
      "source": [
        "# --- Helper Functions for Text Extraction ---\n",
        "\n",
        "def extract_text_from_pdf(pdf_path):\n",
        "    \"\"\"Extracts text from a PDF file.\"\"\"\n",
        "    text = \"\"\n",
        "    try:\n",
        "        with open(pdf_path, 'rb') as file:\n",
        "            reader = PyPDF2.PdfReader(file)\n",
        "            for page_num in range(len(reader.pages)):\n",
        "                text += reader.pages[page_num].extract_text() or \"\" # Handle empty pages\n",
        "        return text\n",
        "    except PyPDF2.utils.PdfReadError:\n",
        "        print(f\"Error: Could not read PDF file '{pdf_path}'. It might be corrupted or encrypted.\")\n",
        "        return None\n",
        "    except Exception as e:\n",
        "        print(f\"An error occurred while reading PDF '{pdf_path}': {e}\")\n",
        "        return None\n",
        "\n",
        "def extract_text_from_docx(docx_path):\n",
        "    \"\"\"Extracts text from a .docx (Word) file.\"\"\"\n",
        "    text = \"\"\n",
        "    try:\n",
        "        document = docx.Document(docx_path)\n",
        "        for paragraph in document.paragraphs:\n",
        "            text += paragraph.text + \"\\n\"\n",
        "        return text\n",
        "    except Exception as e:\n",
        "        print(f\"An error occurred while reading DOCX '{docx_path}': {e}\")\n",
        "        return None\n",
        "\n",
        "def extract_text_from_plain_text(txt_path):\n",
        "    \"\"\"Extracts text from a plain text file.\"\"\"\n",
        "    try:\n",
        "        with open(txt_path, 'r', encoding='utf-8') as file:\n",
        "            return file.read()\n",
        "    except UnicodeDecodeError:\n",
        "        print(f\"Error: Could not decode text file '{txt_path}' with UTF-8. Trying with 'latin-1'.\")\n",
        "        with open(txt_path, 'r', encoding='latin-1') as file:\n",
        "            return file.read()\n",
        "    except Exception as e:\n",
        "        print(f\"An error occurred while reading text file '{txt_path}': {e}\")\n",
        "        return None\n",
        "\n",
        "def get_document_text(file_path):\n",
        "    \"\"\"\n",
        "    Determines file type and extracts text accordingly.\n",
        "    Returns the extracted text or None if an error occurs.\n",
        "    \"\"\"\n",
        "    if not os.path.exists(file_path):\n",
        "        print(f\"Error: File not found at '{file_path}'\")\n",
        "        return None\n",
        "\n",
        "    file_extension = os.path.splitext(file_path)[1].lower()\n",
        "\n",
        "    if file_extension == '.pdf':\n",
        "        print(f\"Extracting text from PDF: {file_path}\")\n",
        "        return extract_text_from_pdf(file_path)\n",
        "    elif file_extension == '.docx':\n",
        "        print(f\"Extracting text from DOCX: {file_path}\")\n",
        "        return extract_text_from_docx(file_path)\n",
        "    elif file_extension in ['.txt', '.md', '.csv', '.html']: # Add other text-based extensions\n",
        "        print(f\"Extracting text from plain text file: {file_path}\")\n",
        "        return extract_text_from_plain_text(file_path)\n",
        "    else:\n",
        "        print(f\"Error: Unsupported file type: {file_extension}\")\n",
        "        print(\"Supported types: .pdf, .docx, .txt, .md, .csv, .html\")\n",
        "        return None\n"
      ],
      "metadata": {
        "id": "NiP1siNL4ioO"
      },
      "execution_count": 5,
      "outputs": []
    },
    {
      "cell_type": "code",
      "source": [
        "# --- Main Summarization Logic ---\n",
        "if __name__ == \"__main__\":\n",
        "    # --- User Input for File Path ---\n",
        "    document_path = input(\"Enter the path to your document (e.g., /path/to/my_doc.pdf, my_article.docx): \")\n",
        "\n",
        "    document_content = get_document_text(document_path)\n",
        "\n",
        "    if document_content:\n",
        "        # --- IMPORTANT: Handle Token Limits for Large Documents ---\n",
        "        # Gemini models have token limits (e.g., 128k or 1M tokens for 1.5 models).\n",
        "        # If your document is very long, it might exceed these limits.\n",
        "        # You'll need a strategy for very long documents:\n",
        "        # 1. Truncate: Only send the first N characters/words. (Simplest, but loses info)\n",
        "        # 2. Chunking & Summarize-then-Summarize: Break into chunks, summarize each,\n",
        "        #    then summarize the summaries. (More complex, better for very large files)\n",
        "\n",
        "        # Basic truncation for demonstration purposes\n",
        "        MAX_CHARS = 100000 # Adjust based on model's token limit and typical token/char ratio\n",
        "        if len(document_content) > MAX_CHARS:\n",
        "            print(f\"Warning: Document content is very large ({len(document_content)} chars).\")\n",
        "            print(f\"Truncating to first {MAX_CHARS} characters to fit model limits.\")\n",
        "            document_content = document_content[:MAX_CHARS]\n",
        "\n",
        "        # --- Summarization Prompt ---\n",
        "        summarization_prompt = (\n",
        "            \"Please summarize the following document concisely and clearly. \"\n",
        "            \"Focus on the main points and provide a summary that is easy to understand. \"\n",
        "            \"Aim for about 10 sentences, or a short paragraph.\\n\\n\"\n",
        "            f\"Document:\\n{document_content}\"\n",
        "        )\n",
        "\n",
        "        # --- Generate Content with the Summarization Prompt ---\n",
        "        try:\n",
        "            print(\"\\nSending document for summarization to Gemini...\")\n",
        "            response = client.models.generate_content(\n",
        "                model=\"gemini-1.5-flash-001\", # Recommended for good balance of speed/cost/capability\n",
        "                contents=summarization_prompt,\n",
        "                config=types.GenerateContentConfig(\n",
        "                    response_modalities=['TEXT']\n",
        "                )\n",
        "            )\n",
        "\n",
        "            # --- Extract, Print, and Save the Summary ---\n",
        "            summary_text = \"\"\n",
        "            if response.candidates and response.candidates[0].content and response.candidates[0].content.parts:\n",
        "                for part in response.candidates[0].content.parts:\n",
        "                    if part.text is not None:\n",
        "                        summary_text += part.text + \"\\n\"\n",
        "\n",
        "                print(\"\\n--- Generated Summary ---\")\n",
        "                print(summary_text.strip()) # .strip() removes leading/trailing whitespace/newlines\n",
        "\n",
        "                output_filename = \"document_summary.txt\"\n",
        "                with open(output_filename, \"w\", encoding=\"utf-8\") as f: # Use 'w' to overwrite, 'a' to append\n",
        "                    f.write(summary_text.strip())\n",
        "                print(f\"\\nSummary successfully saved to {output_filename}\")\n",
        "            else:\n",
        "                print(\"Gemini did not return any text content for summarization.\")\n",
        "\n",
        "\n",
        "        except genai.ClientError as e:\n",
        "            print(f\"\\nGemini API Client Error: {e}\")\n",
        "            print(\"Please check your API key, model name, and ensure the content fits within model limits.\")\n",
        "        except Exception as e:\n",
        "            print(f\"\\nAn unexpected error occurred during summarization: {e}\")\n",
        "    else:\n",
        "        print(\"\\nCould not extract text from the document. Please check the file path and type.\")"
      ],
      "metadata": {
        "id": "kFGTPrkw5HYZ",
        "colab": {
          "base_uri": "https://localhost:8080/"
        },
        "outputId": "4e7b6808-6f4c-4d06-8ed7-8f8b8ed045c6"
      },
      "execution_count": 6,
      "outputs": [
        {
          "output_type": "stream",
          "name": "stdout",
          "text": [
            "Enter the path to your document (e.g., /path/to/my_doc.pdf, my_article.docx): /content/Isaac Lasso Younes_Cybersecurity_In Progress.pdf\n",
            "Extracting text from PDF: /content/Isaac Lasso Younes_Cybersecurity_In Progress.pdf\n",
            "\n",
            "Sending document for summarization to Gemini...\n",
            "\n",
            "--- Generated Summary ---\n",
            "Isaac Lasso Younes is a highly motivated and accomplished cybersecurity student at Pace University, set to graduate in May 2028 with a Bachelor of Science degree and a perfect 4.0 GPA.  His academic record reflects a strong foundation in computer science, including coursework in mathematical structures, object-oriented programming, and design thinking.  Isaac possesses technical skills in Python, Java, and various software tools, as well as certifications in Microsoft Office Suite and customer service. He is proficient in both English and Spanish.\n",
            "\n",
            "Isaac's experience extends beyond the classroom.  He has gained practical experience as a student assistant, providing administrative support and technical assistance at Pace University.  He has also participated in an intensive AI internship program, where he collaborated on real-world AI challenges and explored emerging technologies.  Furthermore, Isaac demonstrates strong leadership and volunteerism skills through his roles as Class President at his previous school and as a volunteer for various organizations, including the International Baccalaureate CAS and the Cecilia Rivadeneira Foundation.  Isaac's dedication to community service is reflected in his fundraising efforts and support for families in need.  He is an active member of the Lambda Sigma Sophomore Honors Society, serving as Treasurer. Overall, Isaac is a well-rounded individual with a strong academic background, practical experience, and a commitment to making a positive impact.\n",
            "\n",
            "Summary successfully saved to document_summary.txt\n"
          ]
        }
      ]
    }
  ]
}
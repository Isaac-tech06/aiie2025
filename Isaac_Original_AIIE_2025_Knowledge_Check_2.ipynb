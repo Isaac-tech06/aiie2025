{
  "nbformat": 4,
  "nbformat_minor": 0,
  "metadata": {
    "kernelspec": {
      "display_name": "Python 3",
      "language": "python",
      "name": "python3"
    },
    "language_info": {
      "codemirror_mode": {
        "name": "ipython",
        "version": 3
      },
      "file_extension": ".py",
      "mimetype": "text/x-python",
      "name": "python",
      "nbconvert_exporter": "python",
      "pygments_lexer": "ipython3",
      "version": "3.6.6"
    },
    "colab": {
      "provenance": []
    }
  },
  "cells": [
    {
      "cell_type": "markdown",
      "metadata": {
        "id": "EeUIUWVK75zR"
      },
      "source": [
        "##Knowlegde Check - 2\n"
      ]
    },
    {
      "cell_type": "markdown",
      "metadata": {
        "id": "5-1haVuV75zS"
      },
      "source": [
        "## Question# 1\n",
        "\n",
        "Points : 5 *italicized text*\n",
        "\n",
        "Write a function that returns the smallest of two even numbers, if both numbers are even and, the greater if one or both numbers are odd\n",
        "   \n",
        "                   lesser_of_two_evens(2,4) --> 2\n",
        "                   lesser_of_two_evens(2,5) --> 5"
      ]
    },
    {
      "cell_type": "code",
      "metadata": {
        "collapsed": true,
        "id": "0dDpOctA75zT"
      },
      "source": [
        "def smallest_of_two_evens(a,b):\n",
        "  if a % 2 == 0 and b % 2 == 0:\n",
        "    if a < b:\n",
        "      return a\n",
        "    elif a > b:\n",
        "      return b\n",
        "  else:\n",
        "    if a < b:\n",
        "      return b\n",
        "    elif a > b:\n",
        "      return a"
      ],
      "execution_count": 2,
      "outputs": []
    },
    {
      "cell_type": "code",
      "metadata": {
        "collapsed": true,
        "id": "TOqxVEyo75zT",
        "colab": {
          "base_uri": "https://localhost:8080/"
        },
        "outputId": "1cc0aa93-56b0-4091-a20f-d21f86bad2f4"
      },
      "source": [
        "# Check1\n",
        "smallest_of_two_evens(2,4)"
      ],
      "execution_count": 3,
      "outputs": [
        {
          "output_type": "execute_result",
          "data": {
            "text/plain": [
              "2"
            ]
          },
          "metadata": {},
          "execution_count": 3
        }
      ]
    },
    {
      "cell_type": "code",
      "metadata": {
        "collapsed": true,
        "id": "AdTCl-Go75zU",
        "colab": {
          "base_uri": "https://localhost:8080/"
        },
        "outputId": "bcb275e3-100d-407f-86a6-a7c7f166fbd7"
      },
      "source": [
        "# Check2\n",
        "smallest_of_two_evens(2,5)"
      ],
      "execution_count": 4,
      "outputs": [
        {
          "output_type": "execute_result",
          "data": {
            "text/plain": [
              "5"
            ]
          },
          "metadata": {},
          "execution_count": 4
        }
      ]
    },
    {
      "cell_type": "markdown",
      "metadata": {
        "id": "HRbQR0ka75zU"
      },
      "source": [
        "## Question# 2\n",
        "\n",
        "Points : 5\n",
        "\n",
        "Write a function takes a two-word string and returns True if both words begin with same letter.\n",
        "\n",
        "            word_crackers('Lion', 'Lady') --> True\n",
        "            word_crackers('Crazy', 'Drink') --> False"
      ]
    },
    {
      "cell_type": "code",
      "metadata": {
        "collapsed": true,
        "id": "QBFQi-X175zV"
      },
      "source": [
        "def word_crackers(word1,word2):\n",
        "    if word1[0] == word2[0]:\n",
        "      return True\n",
        "    else:\n",
        "      return False"
      ],
      "execution_count": 14,
      "outputs": []
    },
    {
      "cell_type": "code",
      "metadata": {
        "collapsed": true,
        "id": "OrUKLE2o75zV",
        "colab": {
          "base_uri": "https://localhost:8080/"
        },
        "outputId": "dc94ea63-e0a9-4ced-875e-022d41c627af"
      },
      "source": [
        "# Check1\n",
        "word_crackers('Lion', 'Lady')"
      ],
      "execution_count": 15,
      "outputs": [
        {
          "output_type": "execute_result",
          "data": {
            "text/plain": [
              "True"
            ]
          },
          "metadata": {},
          "execution_count": 15
        }
      ]
    },
    {
      "cell_type": "code",
      "metadata": {
        "collapsed": true,
        "id": "OKmWGoaN75zW",
        "colab": {
          "base_uri": "https://localhost:8080/"
        },
        "outputId": "c07c8c27-bdd6-4f8c-a06d-2c46af95f897"
      },
      "source": [
        "# Check2\n",
        "word_crackers('Crazy', 'Drink')"
      ],
      "execution_count": 17,
      "outputs": [
        {
          "output_type": "execute_result",
          "data": {
            "text/plain": [
              "False"
            ]
          },
          "metadata": {},
          "execution_count": 17
        }
      ]
    },
    {
      "cell_type": "markdown",
      "metadata": {
        "id": "dTXH0FDi75zW"
      },
      "source": [
        "## Question# 3\n",
        "\n",
        "Points : 5\n",
        "\n",
        "Given two integers, return True if the sum of the integers is 20 *or* if one of the integers is 20. If not, return False\n",
        "\n",
        "    sum_twenty(20,10) --> True\n",
        "    sum_twenty(12,8) --> True\n",
        "    sum_twenty(2,3) --> False"
      ]
    },
    {
      "cell_type": "code",
      "metadata": {
        "collapsed": true,
        "id": "dpE6nfTH75zW"
      },
      "source": [
        "def sum_twenty(n1,n2):\n",
        "  if n1 + n2 ==20 or n1 == 20 or n2 ==20:\n",
        "    return True\n",
        "  else:\n",
        "    return False"
      ],
      "execution_count": 18,
      "outputs": []
    },
    {
      "cell_type": "code",
      "metadata": {
        "collapsed": true,
        "id": "EbGjQmGS75zW",
        "colab": {
          "base_uri": "https://localhost:8080/"
        },
        "outputId": "aee2b987-61b1-4668-fc31-268564efda3b"
      },
      "source": [
        "# Check1\n",
        "sum_twenty(20,10)"
      ],
      "execution_count": 19,
      "outputs": [
        {
          "output_type": "execute_result",
          "data": {
            "text/plain": [
              "True"
            ]
          },
          "metadata": {},
          "execution_count": 19
        }
      ]
    },
    {
      "cell_type": "code",
      "metadata": {
        "collapsed": true,
        "id": "dIsHz1Gz75zX",
        "colab": {
          "base_uri": "https://localhost:8080/"
        },
        "outputId": "3cba8507-53c8-4cd9-b08f-2760cddd2628"
      },
      "source": [
        "# Check2\n",
        "sum_twenty(2,3)"
      ],
      "execution_count": 20,
      "outputs": [
        {
          "output_type": "execute_result",
          "data": {
            "text/plain": [
              "False"
            ]
          },
          "metadata": {},
          "execution_count": 20
        }
      ]
    },
    {
      "cell_type": "markdown",
      "metadata": {
        "id": "y-LhSm8J75zX"
      },
      "source": [
        "## Question# 4\n",
        "\n",
        "Points : 5\n",
        "\n",
        "Write a function that capitalizes the first and fourth letters of a name\n",
        "     \n",
        "    cap_first_four('macdonald') --> MacDonald\n"
      ]
    },
    {
      "cell_type": "code",
      "metadata": {
        "collapsed": true,
        "id": "4A1VE97r75zX"
      },
      "source": [
        "def cap_first_four(name):\n",
        "  x = name[:1]\n",
        "  y = name[3:4]\n",
        "  print(x.upper() + name[1:3] + y.upper() + name[4:])\n"
      ],
      "execution_count": 36,
      "outputs": []
    },
    {
      "cell_type": "code",
      "metadata": {
        "collapsed": true,
        "id": "xhjCfgwF75zX",
        "colab": {
          "base_uri": "https://localhost:8080/"
        },
        "outputId": "24ca00a8-6570-4d3e-94fa-af7a3e0cd73d"
      },
      "source": [
        "# Check\n",
        "cap_first_four('macdonald')"
      ],
      "execution_count": 37,
      "outputs": [
        {
          "output_type": "stream",
          "name": "stdout",
          "text": [
            "MacDonald\n"
          ]
        }
      ]
    },
    {
      "cell_type": "markdown",
      "metadata": {
        "id": "DFOpc81H75zY"
      },
      "source": [
        "## Question# 5\n",
        "\n",
        "Points : 5\n",
        "\n",
        "Given a sentence, return a sentence with the words reversed\n",
        "\n",
        "    rev_words('I am home') --> 'home am I'\n",
        "    rev_words('We are ready') --> 'ready are We'\n",
        "    \n",
        "Note: The .join() method may be useful here. The .join() method allows you to join.\n",
        "\n",
        "    \" \".join(['Hello','world'])\n",
        "    \"Hello world\""
      ]
    },
    {
      "cell_type": "code",
      "metadata": {
        "collapsed": true,
        "id": "3FVzZTFA75zY"
      },
      "source": [
        "def rev_words(text):\n",
        "  x = text.split()\n",
        "  print(x[::-1])"
      ],
      "execution_count": 54,
      "outputs": []
    },
    {
      "cell_type": "code",
      "metadata": {
        "collapsed": true,
        "id": "LAuWsFRa75zY",
        "colab": {
          "base_uri": "https://localhost:8080/"
        },
        "outputId": "1bf72858-4f34-4d2b-931c-a556fe2b7dc6"
      },
      "source": [
        "# Check1\n",
        "rev_words('I am home')"
      ],
      "execution_count": 55,
      "outputs": [
        {
          "output_type": "stream",
          "name": "stdout",
          "text": [
            "['home', 'am', 'I']\n"
          ]
        }
      ]
    },
    {
      "cell_type": "code",
      "metadata": {
        "collapsed": true,
        "id": "idtYNRCX75zZ",
        "colab": {
          "base_uri": "https://localhost:8080/"
        },
        "outputId": "ebe57afa-de0c-4528-ae1b-fc279fdb59d9"
      },
      "source": [
        "# Check2\n",
        "rev_words('We are ready')"
      ],
      "execution_count": 56,
      "outputs": [
        {
          "output_type": "stream",
          "name": "stdout",
          "text": [
            "['ready', 'are', 'We']\n"
          ]
        }
      ]
    },
    {
      "cell_type": "markdown",
      "metadata": {
        "id": "KosRNbjZ75zZ"
      },
      "source": [
        "## Question# 6\n",
        "\n",
        "Points : 5\n",
        "\n",
        "Given an integer n, return True if n is nearest to either 100 or 200 with the difference of upto 10.\n",
        "\n",
        "    nearest_num(90) --> True\n",
        "    nearest_num(104) --> True\n",
        "    nearest_num(150) --> False\n",
        "    nearest_num(209) --> True\n",
        "    \n",
        "NOTE: `abs(num)` returns the absolute value of a number"
      ]
    },
    {
      "cell_type": "code",
      "metadata": {
        "collapsed": true,
        "id": "mYL-XUKn75zZ"
      },
      "source": [
        "def nearest_num(n):\n",
        "  if n >= 90 and n <=110:\n",
        "    return True\n",
        "  elif n >= 190 and n <=210:\n",
        "    return True\n",
        "  else:\n",
        "    return False"
      ],
      "execution_count": 73,
      "outputs": []
    },
    {
      "cell_type": "code",
      "metadata": {
        "collapsed": true,
        "id": "SBy-ceNf75zZ",
        "colab": {
          "base_uri": "https://localhost:8080/"
        },
        "outputId": "ec10ecb6-7b9e-437c-ee17-449c559c72fb"
      },
      "source": [
        "# Check1\n",
        "nearest_num(104)"
      ],
      "execution_count": 74,
      "outputs": [
        {
          "output_type": "execute_result",
          "data": {
            "text/plain": [
              "True"
            ]
          },
          "metadata": {},
          "execution_count": 74
        }
      ]
    },
    {
      "cell_type": "code",
      "metadata": {
        "collapsed": true,
        "id": "l3IiEN1w75zZ",
        "colab": {
          "base_uri": "https://localhost:8080/"
        },
        "outputId": "1791c4ef-f72d-48ff-a2e2-d1eac0a3eb7f"
      },
      "source": [
        "# Check2\n",
        "nearest_num(150)"
      ],
      "execution_count": 75,
      "outputs": [
        {
          "output_type": "execute_result",
          "data": {
            "text/plain": [
              "False"
            ]
          },
          "metadata": {},
          "execution_count": 75
        }
      ]
    },
    {
      "cell_type": "code",
      "metadata": {
        "collapsed": true,
        "id": "lBqJY_II75za",
        "colab": {
          "base_uri": "https://localhost:8080/"
        },
        "outputId": "14950458-65b9-415a-f153-c83ead979230"
      },
      "source": [
        "# Check3\n",
        "nearest_num(209)"
      ],
      "execution_count": 76,
      "outputs": [
        {
          "output_type": "execute_result",
          "data": {
            "text/plain": [
              "True"
            ]
          },
          "metadata": {},
          "execution_count": 76
        }
      ]
    },
    {
      "cell_type": "markdown",
      "metadata": {
        "id": "Aris-wDf75za"
      },
      "source": [
        "## Question# 7\n",
        "\n",
        "Points : 5\n",
        "\n",
        "Given a list of ints, return True if the list contains a same numeric value next.\n",
        "\n",
        "    contains_two_samevalues([1, 3, 3]) → True\n",
        "    contains_two_samevalues([1, 3, 1, 3]) → False\n",
        "    contains_two_samevalues([3, 1, 3]) → False"
      ]
    },
    {
      "cell_type": "code",
      "metadata": {
        "collapsed": true,
        "id": "Dw3iE01275za"
      },
      "source": [
        "def contains_two_samevalues(nums):\n",
        "  for x in range(len(nums) - 1):\n",
        "    if nums[x] == nums[x+1]:\n",
        "      return True\n",
        "  return False"
      ],
      "execution_count": 99,
      "outputs": []
    },
    {
      "cell_type": "code",
      "metadata": {
        "collapsed": true,
        "id": "VTEf2wIu75zb",
        "colab": {
          "base_uri": "https://localhost:8080/"
        },
        "outputId": "f6c5a61e-a02e-45eb-c8dd-1bb45241fe63"
      },
      "source": [
        "# Check1\n",
        "contains_two_samevalues([1, 3, 3])"
      ],
      "execution_count": 100,
      "outputs": [
        {
          "output_type": "execute_result",
          "data": {
            "text/plain": [
              "True"
            ]
          },
          "metadata": {},
          "execution_count": 100
        }
      ]
    },
    {
      "cell_type": "code",
      "metadata": {
        "collapsed": true,
        "id": "D1KxBkty75zb",
        "colab": {
          "base_uri": "https://localhost:8080/"
        },
        "outputId": "676709b4-b14f-46a9-fc43-ae7fe6f20fa5"
      },
      "source": [
        "# Check2\n",
        "contains_two_samevalues([1, 3, 1, 3])"
      ],
      "execution_count": 101,
      "outputs": [
        {
          "output_type": "execute_result",
          "data": {
            "text/plain": [
              "False"
            ]
          },
          "metadata": {},
          "execution_count": 101
        }
      ]
    },
    {
      "cell_type": "code",
      "metadata": {
        "collapsed": true,
        "id": "P_VM5Evm75zb",
        "colab": {
          "base_uri": "https://localhost:8080/"
        },
        "outputId": "861f86f3-e8e7-448d-9aaa-d30c6c694b40"
      },
      "source": [
        "# Check3\n",
        "contains_two_samevalues([3, 1, 3])"
      ],
      "execution_count": 102,
      "outputs": [
        {
          "output_type": "execute_result",
          "data": {
            "text/plain": [
              "False"
            ]
          },
          "metadata": {},
          "execution_count": 102
        }
      ]
    },
    {
      "cell_type": "markdown",
      "metadata": {
        "id": "zUQ5fWNz75zb"
      },
      "source": [
        "## Question# 8\n",
        "\n",
        "Points : 5\n",
        "\n",
        "Given a string, return a string where for every character of the string appears 3 time.\n",
        "\n",
        "    repeat_three('Hello') --> 'HHHeeellllllooo'\n",
        "    repeat_three('Mississippi') --> 'MMMiiissssssiiissssssiiippppppiii'"
      ]
    },
    {
      "cell_type": "code",
      "metadata": {
        "collapsed": true,
        "id": "6vKzWOd475zb"
      },
      "source": [
        "def repeat_three(text):\n",
        "  word = \"\"\n",
        "  for char in text:\n",
        "    word += char*3\n",
        "  print(word)"
      ],
      "execution_count": 107,
      "outputs": []
    },
    {
      "cell_type": "code",
      "metadata": {
        "collapsed": true,
        "id": "TtCaDFgF75zb",
        "colab": {
          "base_uri": "https://localhost:8080/"
        },
        "outputId": "30d544b4-b9f2-4947-9e38-3eb85f01ee6d"
      },
      "source": [
        "# Check1\n",
        "repeat_three('Hello')"
      ],
      "execution_count": 108,
      "outputs": [
        {
          "output_type": "stream",
          "name": "stdout",
          "text": [
            "HHHeeellllllooo\n"
          ]
        }
      ]
    },
    {
      "cell_type": "code",
      "metadata": {
        "collapsed": true,
        "id": "o8QYdzkO75zc",
        "colab": {
          "base_uri": "https://localhost:8080/"
        },
        "outputId": "196a0417-05c6-4688-8ead-be1a242e3994"
      },
      "source": [
        "# Check2\n",
        "repeat_three('Mississippi')"
      ],
      "execution_count": 109,
      "outputs": [
        {
          "output_type": "stream",
          "name": "stdout",
          "text": [
            "MMMiiissssssiiissssssiiippppppiii\n"
          ]
        }
      ]
    },
    {
      "cell_type": "code",
      "source": [],
      "metadata": {
        "id": "9OFsdYeOb4Jn"
      },
      "execution_count": null,
      "outputs": []
    },
    {
      "cell_type": "markdown",
      "metadata": {
        "id": "mKoiX1Je75zg"
      },
      "source": [
        "## Question# 9\n",
        "\n",
        "Points : 5\n",
        "\n",
        "Write a function that returns the *number* of prime numbers that exist up to and including a given number\n",
        "\n",
        "    count_primes(100) --> 25\n",
        "\n",
        "By convention, 0 and 1 are not prime."
      ]
    },
    {
      "cell_type": "code",
      "metadata": {
        "collapsed": true,
        "id": "yYjs542q75zg"
      },
      "source": [
        "def count_primes(num):\n",
        "  prime = 0\n",
        "  for x in range (2, num +1):\n",
        "        for n in range(2,x):\n",
        "            if x % n == 0:\n",
        "                break\n",
        "        else:\n",
        "            prime +=1\n",
        "  return prime\n",
        "\n",
        "\n"
      ],
      "execution_count": 141,
      "outputs": []
    },
    {
      "cell_type": "code",
      "metadata": {
        "collapsed": true,
        "id": "62ZQGzsa75zg",
        "colab": {
          "base_uri": "https://localhost:8080/"
        },
        "outputId": "294460dc-704d-4ea4-d64f-8c5e93a291d7"
      },
      "source": [
        "# Check1\n",
        "count_primes(100)"
      ],
      "execution_count": 142,
      "outputs": [
        {
          "output_type": "execute_result",
          "data": {
            "text/plain": [
              "25"
            ]
          },
          "metadata": {},
          "execution_count": 142
        }
      ]
    }
  ]
}
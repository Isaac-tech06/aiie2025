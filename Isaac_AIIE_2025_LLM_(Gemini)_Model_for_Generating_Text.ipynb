{
  "nbformat": 4,
  "nbformat_minor": 0,
  "metadata": {
    "colab": {
      "provenance": []
    },
    "kernelspec": {
      "name": "python3",
      "display_name": "Python 3"
    },
    "language_info": {
      "name": "python"
    }
  },
  "cells": [
    {
      "cell_type": "code",
      "execution_count": 1,
      "metadata": {
        "id": "PFWaLI5jZWcH"
      },
      "outputs": [],
      "source": [
        "from google import genai\n",
        "from google.genai import types\n",
        "from PIL import Image\n",
        "from io import BytesIO\n",
        "import base64"
      ]
    },
    {
      "cell_type": "code",
      "source": [
        "from google.colab import userdata\n",
        "\n",
        "GOOGLE_API_KEY = userdata.get('GOOGLE_API_KEY')"
      ],
      "metadata": {
        "id": "J0tQIlO7Z6bN"
      },
      "execution_count": 3,
      "outputs": []
    },
    {
      "cell_type": "code",
      "source": [
        "client = genai.Client(api_key=GOOGLE_API_KEY)"
      ],
      "metadata": {
        "id": "YAvFApHuaO12"
      },
      "execution_count": 4,
      "outputs": []
    },
    {
      "cell_type": "code",
      "source": [
        "# Prompt\n",
        "\n",
        "contents = ('Tell me about Ecuador')"
      ],
      "metadata": {
        "id": "aC8eU-QcZ775"
      },
      "execution_count": 9,
      "outputs": []
    },
    {
      "cell_type": "code",
      "source": [
        "response = client.models.generate_content(\n",
        "    model=\"gemini-2.0-flash-lite\",\n",
        "    contents=contents,\n",
        "    config=types.GenerateContentConfig(\n",
        "      response_modalities=['TEXT', 'TEXT']\n",
        "    )\n",
        ")\n"
      ],
      "metadata": {
        "id": "FkqOsEA8aExR"
      },
      "execution_count": 17,
      "outputs": []
    },
    {
      "cell_type": "code",
      "source": [
        "for part in response.candidates[0].content.parts:\n",
        "  if part.text is not None:\n",
        "    print(part.text)\n",
        "\n"
      ],
      "metadata": {
        "colab": {
          "base_uri": "https://localhost:8080/"
        },
        "id": "8QnMLLjAaHzu",
        "outputId": "65d4fb10-4c1d-46a9-cba5-b354b4bab3b5"
      },
      "execution_count": 11,
      "outputs": [
        {
          "output_type": "stream",
          "name": "stdout",
          "text": [
            "Ecuador, officially the Republic of Ecuador, is a fascinating South American country with a rich history, diverse geography, and vibrant culture. Here's a breakdown of key aspects:\n",
            "\n",
            "**Geography and Climate:**\n",
            "\n",
            "*   **Location:** Located on the equator (hence the name!), it's bordered by Colombia to the north and Peru to the east and south. It also includes the Galápagos Islands, located in the Pacific Ocean about 600 miles (965 km) west of the mainland.\n",
            "*   **Diverse Landscapes:** Ecuador boasts an incredibly varied landscape, categorized into four main regions:\n",
            "    *   **Coast (Costa):** Flat, fertile coastal plains with tropical climates. Key cities include Guayaquil (the largest city) and Esmeraldas.\n",
            "    *   **Andes Mountains (Sierra):** The Andes run north-south through the country, with high peaks, volcanoes (including Cotopaxi and Chimborazo, the highest point), and valleys. Key cities include Quito (the capital) and Cuenca.\n",
            "    *   **Amazon Rainforest (Oriente):** A portion of the Amazon rainforest covers the eastern part of Ecuador. It's home to incredible biodiversity and indigenous communities.\n",
            "    *   **Galápagos Islands:** A volcanic archipelago, famous for its unique wildlife and role in Charles Darwin's theory of evolution.\n",
            "*   **Climate:** Varies greatly depending on the region. The coast is generally hot and humid. The Andes have cooler climates, and the Amazon is hot and humid. The Galápagos Islands have a unique climate influenced by ocean currents.\n",
            "\n",
            "**Culture and People:**\n",
            "\n",
            "*   **Ethnic Diversity:** Ecuador is a melting pot of cultures, with a majority Mestizo (mixed Indigenous and European descent) population. There are also significant Indigenous communities, Afro-Ecuadorians, and smaller groups of people of European, Asian, and other descents.\n",
            "*   **Language:** Spanish is the official language. Many Indigenous languages are also spoken, including Quechua and Shuar.\n",
            "*   **Arts and Crafts:** Ecuador is known for its vibrant arts and crafts. Traditional crafts include:\n",
            "    *   **Panama Hats:** Actually originating in Ecuador, despite the name.\n",
            "    *   **Textiles:** Colorful weaving, especially from the Otavalo region.\n",
            "    *   **Pottery and Ceramics:** Often with intricate designs.\n",
            "    *   **Wood Carvings:** Especially in religious settings.\n",
            "*   **Music and Dance:** Diverse musical traditions, from Andean folk music to salsa, cumbia, and rock. Indigenous dances and rituals are still practiced.\n",
            "*   **Cuisine:** Ecuadorian cuisine is diverse and flavorful, with regional variations. Common ingredients include:\n",
            "    *   Seafood (especially on the coast)\n",
            "    *   Potatoes, corn, and rice\n",
            "    *   Tropical fruits like bananas, mangoes, and passion fruit\n",
            "    *   Popular dishes: *ceviche* (marinated seafood), *locro* (potato soup), *hornado* (roasted pork), and *encebollado* (fish soup).\n",
            "\n",
            "**History and Government:**\n",
            "\n",
            "*   **Pre-Columbian Era:** Indigenous civilizations, including the Inca Empire, inhabited the region for thousands of years.\n",
            "*   **Spanish Colonization:** Conquered by the Spanish in the 16th century. Quito was founded in 1534. Ecuador became part of the Spanish Viceroyalty of Peru and later the Viceroyalty of New Granada.\n",
            "*   **Independence:** Gained independence from Spain in 1822 as part of Gran Colombia (along with Colombia and Venezuela). Ecuador became a separate republic in 1830.\n",
            "*   **Political History:** Marked by periods of stability, authoritarian rule, and political instability.\n",
            "*   **Government:** A presidential republic, with a president as the head of state and government.\n",
            "\n",
            "**Economy:**\n",
            "\n",
            "*   **Key Industries:**\n",
            "    *   **Oil:** A major source of revenue, but its reliance has led to economic volatility.\n",
            "    *   **Agriculture:** Bananas, shrimp, cacao, coffee, and flowers are important exports.\n",
            "    *   **Tourism:** Growing sector, especially drawn to the Galápagos Islands and the Andes region.\n",
            "    *   **Fishing**\n",
            "*   **Currency:** US Dollar (adopted in 2000)\n",
            "*   **Challenges:** Corruption, economic inequality, dependence on oil exports, and environmental concerns.\n",
            "\n",
            "**Tourism:**\n",
            "\n",
            "*   **Popular Destinations:**\n",
            "    *   **Galápagos Islands:** Wildlife encounters, snorkeling, diving, and unique landscapes.\n",
            "    *   **Quito:** Historic city center (a UNESCO World Heritage site), colonial architecture, museums, and vibrant nightlife.\n",
            "    *   **Cuenca:** Another beautiful colonial city (a UNESCO World Heritage site), known for its architecture, cultural attractions, and artisan workshops.\n",
            "    *   **The Andes:** Hiking, climbing, exploring volcanoes, and experiencing Indigenous cultures.\n",
            "    *   **The Amazon Rainforest:** Ecotourism, wildlife viewing, and exploring Indigenous communities.\n",
            "    *   **Coastal Towns:** Beaches, surfing, and relaxation.\n",
            "*   **Tips for Travelers:**\n",
            "    *   High altitude sickness can be a factor in the Andes.\n",
            "    *   The weather can vary greatly depending on the region and season.\n",
            "    *   Learn some basic Spanish.\n",
            "    *   Be aware of safety precautions, especially in large cities.\n",
            "    *   Respect local customs and traditions.\n",
            "\n",
            "**In Summary:**\n",
            "\n",
            "Ecuador is a country of incredible contrasts, from its snow-capped volcanoes to its lush rainforests and beautiful beaches. Its diverse cultures, fascinating history, and unique wildlife make it a compelling destination for travelers. Its economic challenges and environmental concerns mean there's work to be done, but its potential and beauty are undeniable.\n",
            "\n"
          ]
        }
      ]
    },
    {
      "cell_type": "code",
      "source": [
        "output_filename = \"gemini_response.txt\" # Define the name of your output file\n",
        "\n",
        "with open(output_filename, \"a\") as f:\n",
        "  for part in response.candidates[0].content.parts:\n",
        "              if part.text is not None:\n",
        "                  f.write(part.text + \"\\n\") # Write the text to the file, followed by a newline\n",
        "                  print(f\"Text written to {output_filename}:\")\n",
        "                  print(part.text) # Still print to console for immediate feedback\n"
      ],
      "metadata": {
        "colab": {
          "base_uri": "https://localhost:8080/"
        },
        "id": "qyK-AywPezu9",
        "outputId": "3fdf76a2-e6ab-482f-91c8-32b6f7398194"
      },
      "execution_count": 12,
      "outputs": [
        {
          "output_type": "stream",
          "name": "stdout",
          "text": [
            "Text written to gemini_response.txt:\n",
            "Ecuador, officially the Republic of Ecuador, is a fascinating South American country with a rich history, diverse geography, and vibrant culture. Here's a breakdown of key aspects:\n",
            "\n",
            "**Geography and Climate:**\n",
            "\n",
            "*   **Location:** Located on the equator (hence the name!), it's bordered by Colombia to the north and Peru to the east and south. It also includes the Galápagos Islands, located in the Pacific Ocean about 600 miles (965 km) west of the mainland.\n",
            "*   **Diverse Landscapes:** Ecuador boasts an incredibly varied landscape, categorized into four main regions:\n",
            "    *   **Coast (Costa):** Flat, fertile coastal plains with tropical climates. Key cities include Guayaquil (the largest city) and Esmeraldas.\n",
            "    *   **Andes Mountains (Sierra):** The Andes run north-south through the country, with high peaks, volcanoes (including Cotopaxi and Chimborazo, the highest point), and valleys. Key cities include Quito (the capital) and Cuenca.\n",
            "    *   **Amazon Rainforest (Oriente):** A portion of the Amazon rainforest covers the eastern part of Ecuador. It's home to incredible biodiversity and indigenous communities.\n",
            "    *   **Galápagos Islands:** A volcanic archipelago, famous for its unique wildlife and role in Charles Darwin's theory of evolution.\n",
            "*   **Climate:** Varies greatly depending on the region. The coast is generally hot and humid. The Andes have cooler climates, and the Amazon is hot and humid. The Galápagos Islands have a unique climate influenced by ocean currents.\n",
            "\n",
            "**Culture and People:**\n",
            "\n",
            "*   **Ethnic Diversity:** Ecuador is a melting pot of cultures, with a majority Mestizo (mixed Indigenous and European descent) population. There are also significant Indigenous communities, Afro-Ecuadorians, and smaller groups of people of European, Asian, and other descents.\n",
            "*   **Language:** Spanish is the official language. Many Indigenous languages are also spoken, including Quechua and Shuar.\n",
            "*   **Arts and Crafts:** Ecuador is known for its vibrant arts and crafts. Traditional crafts include:\n",
            "    *   **Panama Hats:** Actually originating in Ecuador, despite the name.\n",
            "    *   **Textiles:** Colorful weaving, especially from the Otavalo region.\n",
            "    *   **Pottery and Ceramics:** Often with intricate designs.\n",
            "    *   **Wood Carvings:** Especially in religious settings.\n",
            "*   **Music and Dance:** Diverse musical traditions, from Andean folk music to salsa, cumbia, and rock. Indigenous dances and rituals are still practiced.\n",
            "*   **Cuisine:** Ecuadorian cuisine is diverse and flavorful, with regional variations. Common ingredients include:\n",
            "    *   Seafood (especially on the coast)\n",
            "    *   Potatoes, corn, and rice\n",
            "    *   Tropical fruits like bananas, mangoes, and passion fruit\n",
            "    *   Popular dishes: *ceviche* (marinated seafood), *locro* (potato soup), *hornado* (roasted pork), and *encebollado* (fish soup).\n",
            "\n",
            "**History and Government:**\n",
            "\n",
            "*   **Pre-Columbian Era:** Indigenous civilizations, including the Inca Empire, inhabited the region for thousands of years.\n",
            "*   **Spanish Colonization:** Conquered by the Spanish in the 16th century. Quito was founded in 1534. Ecuador became part of the Spanish Viceroyalty of Peru and later the Viceroyalty of New Granada.\n",
            "*   **Independence:** Gained independence from Spain in 1822 as part of Gran Colombia (along with Colombia and Venezuela). Ecuador became a separate republic in 1830.\n",
            "*   **Political History:** Marked by periods of stability, authoritarian rule, and political instability.\n",
            "*   **Government:** A presidential republic, with a president as the head of state and government.\n",
            "\n",
            "**Economy:**\n",
            "\n",
            "*   **Key Industries:**\n",
            "    *   **Oil:** A major source of revenue, but its reliance has led to economic volatility.\n",
            "    *   **Agriculture:** Bananas, shrimp, cacao, coffee, and flowers are important exports.\n",
            "    *   **Tourism:** Growing sector, especially drawn to the Galápagos Islands and the Andes region.\n",
            "    *   **Fishing**\n",
            "*   **Currency:** US Dollar (adopted in 2000)\n",
            "*   **Challenges:** Corruption, economic inequality, dependence on oil exports, and environmental concerns.\n",
            "\n",
            "**Tourism:**\n",
            "\n",
            "*   **Popular Destinations:**\n",
            "    *   **Galápagos Islands:** Wildlife encounters, snorkeling, diving, and unique landscapes.\n",
            "    *   **Quito:** Historic city center (a UNESCO World Heritage site), colonial architecture, museums, and vibrant nightlife.\n",
            "    *   **Cuenca:** Another beautiful colonial city (a UNESCO World Heritage site), known for its architecture, cultural attractions, and artisan workshops.\n",
            "    *   **The Andes:** Hiking, climbing, exploring volcanoes, and experiencing Indigenous cultures.\n",
            "    *   **The Amazon Rainforest:** Ecotourism, wildlife viewing, and exploring Indigenous communities.\n",
            "    *   **Coastal Towns:** Beaches, surfing, and relaxation.\n",
            "*   **Tips for Travelers:**\n",
            "    *   High altitude sickness can be a factor in the Andes.\n",
            "    *   The weather can vary greatly depending on the region and season.\n",
            "    *   Learn some basic Spanish.\n",
            "    *   Be aware of safety precautions, especially in large cities.\n",
            "    *   Respect local customs and traditions.\n",
            "\n",
            "**In Summary:**\n",
            "\n",
            "Ecuador is a country of incredible contrasts, from its snow-capped volcanoes to its lush rainforests and beautiful beaches. Its diverse cultures, fascinating history, and unique wildlife make it a compelling destination for travelers. Its economic challenges and environmental concerns mean there's work to be done, but its potential and beauty are undeniable.\n",
            "\n"
          ]
        }
      ]
    },
    {
      "cell_type": "code",
      "source": [],
      "metadata": {
        "id": "vEHcYGzPhFO4"
      },
      "execution_count": null,
      "outputs": []
    }
  ]
}